{
 "cells": [
  {
   "cell_type": "markdown",
   "id": "5c866862-dc5f-4e52-a06e-7b818010277b",
   "metadata": {},
   "source": [
    "# Data Science Tools and Ecosystem"
   ]
  },
  {
   "cell_type": "markdown",
   "id": "e5200f6f-7908-4fd2-9abf-32fc1a1e08aa",
   "metadata": {},
   "source": [
    "### En este cuaderno, se resumen las herramientas y ecosistemas de la ciencia de datos."
   ]
  },
  {
   "attachments": {},
   "cell_type": "markdown",
   "id": "c670d7b1-24b4-4fbd-9e2a-7ddcd9bd26d8",
   "metadata": {},
   "source": [
    "### *Objetivos:*\n",
    "+ Listar lenguajes populares para Ciencia de Datos.\n",
    "+ Enumerar las tareas que debe realizar un científico de datos\n",
    "+ Lenguajes Populaes que se utilizan\n",
    "+ Bibliotecas que se utilizan en algunos lenguajes\n",
    "+ Utilización de Jupyter Notebook\n",
    "+ Compartir y manejar versiones de documentos en Github"
   ]
  },
  {
   "cell_type": "markdown",
   "id": "c6806361-6d83-44ba-b6e2-d31ef25d068f",
   "metadata": {
    "jp-MarkdownHeadingCollapsed": true
   },
   "source": [
    "##### Algunos de los lenguajes populares que utilizan los científicos de datos son:\n",
    "1. Phyton\n",
    "2. R\n",
    "3. SQL\n",
    "4. Java"
   ]
  },
  {
   "cell_type": "markdown",
   "id": "d1fee1fa-0e8d-4649-b7fd-8852a4e878ab",
   "metadata": {
    "jp-MarkdownHeadingCollapsed": true
   },
   "source": [
    "##### Algunas de las bibliotecas comúnmente utilizadas por los científicos de datos incluyen:\n",
    "1. NumPy\n",
    "2. matplotlib\n",
    "3. Seaborn\n",
    "4. Scikit-lea"
   ]
  },
  {
   "cell_type": "markdown",
   "id": "3cff5f41-9ee3-4a80-ab4e-c7020b339b24",
   "metadata": {},
   "source": [
    "|Herramientas de Ciencia de Datos|\n",
    "|----------|\n",
    "|Jupyter|\n",
    "|GitHub|\n",
    "|MySql|\n",
    "|PostgreSql|\n",
    "|Hadoop|"
   ]
  },
  {
   "cell_type": "markdown",
   "id": "cbf4d598-5e7b-4a73-a8be-32b7f3d1c792",
   "metadata": {},
   "source": [
    "### A continuación, se presentan algunos ejemplos de evaluación de expresiones aritméticas en Python."
   ]
  },
  {
   "cell_type": "code",
   "execution_count": 2,
   "id": "36ff941a-6c58-4dad-88ba-6b321f7c6702",
   "metadata": {},
   "outputs": [
    {
     "name": "stdout",
     "output_type": "stream",
     "text": [
      "5\n"
     ]
    }
   ],
   "source": [
    "a=15\n",
    "b=20\n",
    "result=b-a\n",
    "print(result)"
   ]
  },
  {
   "cell_type": "code",
   "execution_count": 3,
   "id": "b5ba71ca-65db-4a72-98fa-1522a208e301",
   "metadata": {},
   "outputs": [
    {
     "name": "stdout",
     "output_type": "stream",
     "text": [
      "17\n"
     ]
    }
   ],
   "source": [
    "#Esta es una expresión aritmética simple para multiplicar y luego sumar enteros\n",
    "print((3*4)+5)"
   ]
  },
  {
   "cell_type": "code",
   "execution_count": 5,
   "id": "d3d2facd-1403-4207-8688-53f5d931dedb",
   "metadata": {},
   "outputs": [
    {
     "name": "stdout",
     "output_type": "stream",
     "text": [
      "200 minutos es igual a  3 Horas y 20  minutos\n"
     ]
    }
   ],
   "source": [
    "#Esto convertirá 200 minutos a horas dividiendo por 60.\n",
    "minutos=200\n",
    "lapso=60\n",
    "horas=minutos//lapso\n",
    "resto=minutos%lapso\n",
    "print(minutos,\"minutos es igual a \",horas,\"Horas y\",resto,\" minutos\")"
   ]
  },
  {
   "cell_type": "markdown",
   "id": "5e17af52-c2b4-4d7d-86b6-07781f0d01ce",
   "metadata": {},
   "source": [
    "## Autor \n",
    "###### Diego Martinez"
   ]
  },
  {
   "cell_type": "code",
   "execution_count": null,
   "id": "680d2d3d-aaf3-416f-a266-619d6830ad16",
   "metadata": {},
   "outputs": [],
   "source": []
  }
 ],
 "metadata": {
  "kernelspec": {
   "display_name": "Python 3 (ipykernel)",
   "language": "python",
   "name": "python3"
  },
  "language_info": {
   "codemirror_mode": {
    "name": "ipython",
    "version": 3
   },
   "file_extension": ".py",
   "mimetype": "text/x-python",
   "name": "python",
   "nbconvert_exporter": "python",
   "pygments_lexer": "ipython3",
   "version": "3.12.8"
  }
 },
 "nbformat": 4,
 "nbformat_minor": 5
}
